{
 "cells": [
  {
   "cell_type": "code",
   "execution_count": null,
   "metadata": {
    "collapsed": true
   },
   "outputs": [],
   "source": [
    "import numpy as np\n",
    "import pandas as pd\n",
    "import matplotlib.pyplot as plt\n",
    "\n",
    "%matplotlib inline"
   ]
  },
  {
   "cell_type": "code",
   "execution_count": null,
   "metadata": {
    "collapsed": false
   },
   "outputs": [],
   "source": [
    "#From Jose\n",
    "gene = pd.read_excel('gene_expression_table4.xlsx')\n",
    "del gene['Unnamed: 9']\n",
    "# deleted column without any content\n",
    "#append each column except the first column which is the gene ID\n",
    "just_expression=gene.iloc[0:373,3:15]\n",
    "just_expression\n"
   ]
  },
  {
   "cell_type": "code",
   "execution_count": null,
   "metadata": {
    "collapsed": false
   },
   "outputs": [],
   "source": [
    "JEflip = just_expression.transpose()\n",
    "JEflip\n",
    "\n",
    "JEflipar = JEflip.values\n",
    "JEflipar"
   ]
  },
  {
   "cell_type": "code",
   "execution_count": null,
   "metadata": {
    "collapsed": true
   },
   "outputs": [],
   "source": [
    "#Making a new array to label gene expression under low or high BRCA1 (rows in JEflip)\n",
    "brca = np.array(['BRCA1-','BRCA1-','BRCA1-','BRCA1-','BRCA1-','BRCA1-',\n",
    "         'BRCA1+','BRCA1+','BRCA1+','BRCA1+','BRCA1+','BRCA1+'])"
   ]
  },
  {
   "cell_type": "code",
   "execution_count": null,
   "metadata": {
    "collapsed": true
   },
   "outputs": [],
   "source": [
    "from sklearn.decomposition import PCA"
   ]
  },
  {
   "cell_type": "code",
   "execution_count": null,
   "metadata": {
    "collapsed": true
   },
   "outputs": [],
   "source": [
    "JEflip_pca = PCA()\n",
    "JEflippc = JEflip_pca.fit_transform(JEflipar) # 12x12 matrix"
   ]
  },
  {
   "cell_type": "code",
   "execution_count": null,
   "metadata": {
    "collapsed": false
   },
   "outputs": [],
   "source": [
    "fg = plt.figure()\n",
    "\n",
    "\n",
    "fg.add_subplot(1,2,1)\n",
    "plt.plot(np.cumsum(JEflip_pca.explained_variance_ratio_))\n",
    "plt.xlabel(\"pc's\")\n",
    "plt.ylabel('fraction var explained')\n",
    "\n",
    "\n",
    "JEvar = JEflip_pca.explained_variance_ratio_\n",
    "cumvar = np.cumsum(JEvar) \n",
    "for i in range (12):\n",
    "    if cumvar[i] >= 0.9:\n",
    "        print (i+1, 'components are need to explain 90% of the variance')\n",
    "        break\n",
    "        \n",
    "# 5 of the 12 PCs needed to explain 90% of the variance\n",
    "# but the first PC already explains more than 75% of the variance"
   ]
  },
  {
   "cell_type": "code",
   "execution_count": null,
   "metadata": {
    "collapsed": false
   },
   "outputs": [],
   "source": [
    "# Plot function from homework 5 key\n",
    "\n",
    "fg = plt.figure()\n",
    "\n",
    "fg.add_subplot(3,1,1)\n",
    "for c in np.unique(brca):\n",
    "    plt.plot(JEflippc[brca==c,0], \n",
    "             JEflippc[brca==c,1], 'o')\n",
    "plt.xlabel('PC1')    \n",
    "plt.ylabel('PC2')\n",
    "\n",
    "fg.add_subplot(3,1,2)\n",
    "for c in np.unique(brca):\n",
    "    plt.plot(JEflippc[brca==c,0], \n",
    "             JEflippc[brca==c,5], 'o')\n",
    "plt.xlabel('PC1')    \n",
    "plt.ylabel('PC6')\n",
    "\n",
    "fg.add_subplot(3,1,3)\n",
    "for c in np.unique(brca):\n",
    "    plt.plot(JEflippc[brca==c,0], \n",
    "             JEflippc[brca==c,11], 'o')\n",
    "plt.xlabel('PC1')    \n",
    "plt.ylabel('PC12')\n",
    "\n",
    "plt.tight_layout()\n",
    "\n",
    "#When the indiviual PCs are compoared with the first PC, always a clear separation into \n",
    "#2 groups of 6 samples - corresponds to BRCA1+ or BRCA1-.\n",
    "#Here example of 3"
   ]
  },
  {
   "cell_type": "code",
   "execution_count": null,
   "metadata": {
    "collapsed": false
   },
   "outputs": [],
   "source": [
    "#Function from homework 5 key\n",
    "\n",
    "for c in np.unique(brca):\n",
    "    plt.plot(JEflippc[brca==c,1], \n",
    "             JEflippc[brca==c,2], 'o')\n",
    "plt.xlabel('PC2')    \n",
    "plt.ylabel('PC3')\n",
    "\n",
    "# When compared between other PCs that are not the first PC, less clear separation"
   ]
  },
  {
   "cell_type": "code",
   "execution_count": null,
   "metadata": {
    "collapsed": true
   },
   "outputs": [],
   "source": [
    "def test_train_id (N, test_frac):\n",
    "    test = np.random.choice(np.arange(0, N), size = (np.floor(N * test_frac)), replace = False, p = None)\n",
    "    train = np.setdiff1d(np.arange(0,N), test)\n",
    "    return train, test"
   ]
  },
  {
   "cell_type": "code",
   "execution_count": null,
   "metadata": {
    "collapsed": true
   },
   "outputs": [],
   "source": [
    "# Function from homework 5 key \n",
    "\n",
    "from sklearn.decomposition import PCA\n",
    "\n",
    "def cross_val_class_accuracy(model, X, y, r, test_frac, reps):\n",
    "    JEflip_pca = PCA()\n",
    "    \n",
    "    score = np.array([])\n",
    "    for i in range(reps):\n",
    "        train, test = test_train_id(y.size, test_frac)\n",
    "        y_train = y[train]\n",
    "        y_test = y[test]\n",
    "        \n",
    "        X_train = JEflip_pca.fit_transform(X[train, :])[:, :r]\n",
    "        X_test = JEflip_pca.transform(X[test, :])[:, :r]\n",
    "        \n",
    "        model.fit(X_train, y_train)\n",
    "        \n",
    "        pred = model.predict(X_test)\n",
    "        this_score = sum(pred == y_test) / len(y_test)\n",
    "        \n",
    "        score = np.append(score, this_score)\n",
    "    return score"
   ]
  },
  {
   "cell_type": "code",
   "execution_count": null,
   "metadata": {
    "collapsed": true
   },
   "outputs": [],
   "source": [
    "from sklearn.discriminant_analysis import LinearDiscriminantAnalysis\n",
    "from sklearn.neighbors import KNeighborsClassifier\n",
    "from sklearn import svm\n",
    "from sklearn.tree import DecisionTreeClassifier"
   ]
  },
  {
   "cell_type": "code",
   "execution_count": null,
   "metadata": {
    "collapsed": false
   },
   "outputs": [],
   "source": [
    "score = cross_val_class_accuracy(LinearDiscriminantAnalysis(), JEflipar, \n",
    "                                brca, 10, 0.2, 200)\n",
    "print(score.mean())"
   ]
  },
  {
   "cell_type": "code",
   "execution_count": null,
   "metadata": {
    "collapsed": false
   },
   "outputs": [],
   "source": [
    "testfrac = 1/6 \n",
    "reps = 200\n",
    "\n",
    "lda_r5_scores = cross_val_class_accuracy(LinearDiscriminantAnalysis(), \n",
    "                                          JEflipar, brca, 5,\n",
    "                                          testfrac, reps)\n",
    "lda_r10_scores = cross_val_class_accuracy(LinearDiscriminantAnalysis(), \n",
    "                                          JEflipar, brca, 10,\n",
    "                                          testfrac, reps)\n",
    "knn2_scores = cross_val_class_accuracy(KNeighborsClassifier(n_neighbors=2),\n",
    "                                       JEflipar, brca, 10,\n",
    "                                       testfrac, reps)\n",
    "knn10_scores = cross_val_class_accuracy(KNeighborsClassifier(n_neighbors=10),\n",
    "                                       JEflipar, brca, 10,\n",
    "                                        testfrac, reps)\n",
    "svm_scores = cross_val_class_accuracy(svm.SVC(kernel='linear'),\n",
    "                                      JEflipar, brca, 10, \n",
    "                                      testfrac, reps)\n",
    "tree_scores = cross_val_class_accuracy(DecisionTreeClassifier(max_depth=3),\n",
    "                                       JEflipar, brca, 10,\n",
    "                                       testfrac, reps)"
   ]
  },
  {
   "cell_type": "code",
   "execution_count": null,
   "metadata": {
    "collapsed": false
   },
   "outputs": [],
   "source": [
    "classifiers = ('lda_r5', 'lda_r10', 'knn2', 'knn10', 'svm', 'tree')\n",
    "scores = [lda_r5_scores.mean(), lda_r10_scores.mean(), \n",
    "          knn2_scores.mean(), knn10_scores.mean(),\n",
    "         svm_scores.mean(), tree_scores.mean()]\n",
    "scores_err = [lda_r5_scores.std(), lda_r10_scores.std(), \n",
    "          knn2_scores.std(), knn10_scores.std(),\n",
    "         svm_scores.std(), tree_scores.std()]\n",
    "\n",
    "\n",
    "plt.bar(range(len(classifiers)), scores, \n",
    "        yerr=scores_err,\n",
    "        align='center', alpha=0.4,)\n",
    "plt.xticks(range(len(classifiers)), classifiers)\n",
    "plt.ylabel('Cross-validated accuracy')\n",
    "plt.xlabel('Classification Algorithm')"
   ]
  },
  {
   "cell_type": "code",
   "execution_count": null,
   "metadata": {
    "collapsed": true
   },
   "outputs": [],
   "source": []
  }
 ],
 "metadata": {
  "anaconda-cloud": {},
  "kernelspec": {
   "display_name": "Python [default]",
   "language": "python",
   "name": "python3"
  },
  "language_info": {
   "codemirror_mode": {
    "name": "ipython",
    "version": 3
   },
   "file_extension": ".py",
   "mimetype": "text/x-python",
   "name": "python",
   "nbconvert_exporter": "python",
   "pygments_lexer": "ipython3",
   "version": "3.5.2"
  }
 },
 "nbformat": 4,
 "nbformat_minor": 1
}
