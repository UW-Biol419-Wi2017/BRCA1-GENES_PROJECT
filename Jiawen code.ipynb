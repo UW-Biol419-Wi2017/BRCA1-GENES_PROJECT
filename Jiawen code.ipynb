{
 "cells": [
  {
   "cell_type": "code",
   "execution_count": null,
   "metadata": {
    "collapsed": true
   },
   "outputs": [],
   "source": [
    "import numpy as np\n",
    "import pandas as pd\n",
    "import matplotlib.pyplot as plt\n",
    "\n",
    "%matplotlib inline"
   ]
  },
  {
   "cell_type": "code",
   "execution_count": null,
   "metadata": {
    "collapsed": false
   },
   "outputs": [],
   "source": [
    "#From Jose\n",
    "gene = pd.read_excel('gene_expression_table4.xlsx')\n",
    "del gene['Unnamed: 9']\n",
    "# deleted column without any content\n",
    "#append each column except the first column which is the gene ID\n",
    "just_expression=gene.iloc[0:373,3:15]\n",
    "just_expression\n"
   ]
  },
  {
   "cell_type": "code",
   "execution_count": null,
   "metadata": {
    "collapsed": false
   },
   "outputs": [],
   "source": [
    "JEflip = just_expression.transpose()\n",
    "JEflip\n",
    "\n",
    "JEflipar = JEflip.values\n",
    "JEflipar"
   ]
  },
  {
   "cell_type": "code",
   "execution_count": null,
   "metadata": {
    "collapsed": true
   },
   "outputs": [],
   "source": [
    "#Making a new array to label gene expression under low or high BRCA1 (rows in JEflip)\n",
    "brca = np.array(['BRCA1-','BRCA1-','BRCA1-','BRCA1-','BRCA1-','BRCA1-',\n",
    "         'BRCA1+','BRCA1+','BRCA1+','BRCA1+','BRCA1+','BRCA1+'])"
   ]
  },
  {
   "cell_type": "code",
   "execution_count": null,
   "metadata": {
    "collapsed": true
   },
   "outputs": [],
   "source": [
    "from sklearn.decomposition import PCA"
   ]
  },
  {
   "cell_type": "code",
   "execution_count": null,
   "metadata": {
    "collapsed": true
   },
   "outputs": [],
   "source": [
    "JEflip_pca = PCA()\n",
    "JEflippc = JEflip_pca.fit_transform(JEflipar) # 12x12 matrix"
   ]
  },
  {
   "cell_type": "code",
   "execution_count": null,
   "metadata": {
    "collapsed": false
   },
   "outputs": [],
   "source": [
    "fg = plt.figure()\n",
    "\n",
    "\n",
    "fg.add_subplot(1,2,1)\n",
    "plt.plot(np.cumsum(JEflip_pca.explained_variance_ratio_))\n",
    "plt.xlabel(\"pc's\")\n",
    "plt.ylabel('fraction var explained')\n",
    "\n",
    "\n",
    "JEvar = JEflip_pca.explained_variance_ratio_\n",
    "cumvar = np.cumsum(JEvar) \n",
    "for i in range (12):\n",
    "    if cumvar[i] >= 0.9:\n",
    "        print (i+1, 'components are need to explain 90% of the variance')\n",
    "        break\n",
    "        \n",
    "# 5 of the 12 PCs needed to explain 90% of the variance\n",
    "# but the first PC already explains more than 75% of the variance"
   ]
  },
  {
   "cell_type": "code",
   "execution_count": null,
   "metadata": {
    "collapsed": false
   },
   "outputs": [],
   "source": [
    "# Plot function from homework 5 key\n",
    "\n",
    "fg = plt.figure()\n",
    "\n",
    "fg.add_subplot(3,1,1)\n",
    "for c in np.unique(brca):\n",
    "    plt.plot(JEflippc[brca==c,0], \n",
    "             JEflippc[brca==c,1], 'o')\n",
    "plt.xlabel('PC1')    \n",
    "plt.ylabel('PC2')\n",
    "\n",
    "fg.add_subplot(3,1,2)\n",
    "for c in np.unique(brca):\n",
    "    plt.plot(JEflippc[brca==c,0], \n",
    "             JEflippc[brca==c,5], 'o')\n",
    "plt.xlabel('PC1')    \n",
    "plt.ylabel('PC6')\n",
    "\n",
    "fg.add_subplot(3,1,3)\n",
    "for c in np.unique(brca):\n",
    "    plt.plot(JEflippc[brca==c,0], \n",
    "             JEflippc[brca==c,11], 'o')\n",
    "plt.xlabel('PC1')    \n",
    "plt.ylabel('PC12')\n",
    "\n",
    "plt.tight_layout()\n",
    "\n",
    "#When the indiviual PCs are compoared with the first PC, always a clear separation into \n",
    "#2 groups of 6 samples - corresponds to BRCA1+ or BRCA1-.\n",
    "#Here example of 3"
   ]
  },
  {
   "cell_type": "code",
   "execution_count": null,
   "metadata": {
    "collapsed": false
   },
   "outputs": [],
   "source": [
    "#Function from homework 5 key\n",
    "\n",
    "for c in np.unique(brca):\n",
    "    plt.plot(JEflippc[brca==c,1], \n",
    "             JEflippc[brca==c,2], 'o')\n",
    "plt.xlabel('PC2')    \n",
    "plt.ylabel('PC3')\n",
    "\n",
    "# When compared between other PCs that are not the first PC, less clear separation"
   ]
  },
  {
   "cell_type": "code",
   "execution_count": null,
   "metadata": {
    "collapsed": true
   },
   "outputs": [],
   "source": [
    "def test_train_id (N, test_frac):\n",
    "    test = np.random.choice(np.arange(0, N), size = (np.floor(N * test_frac)), replace = False, p = None)\n",
    "    train = np.setdiff1d(np.arange(0,N), test)\n",
    "    return train, test"
   ]
  },
  {
   "cell_type": "code",
   "execution_count": null,
   "metadata": {
    "collapsed": true
   },
   "outputs": [],
   "source": [
    "# Function from homework 5 key \n",
    "\n",
    "from sklearn.decomposition import PCA\n",
    "\n",
    "def cross_val_class_accuracy(model, X, y, r, test_frac, reps):\n",
    "    JEflip_pca = PCA()\n",
    "    \n",
    "    score = np.array([])\n",
    "    for i in range(reps):\n",
    "        train, test = test_train_id(y.size, test_frac)\n",
    "        y_train = y[train]\n",
    "        y_test = y[test]\n",
    "        \n",
    "        X_train = JEflip_pca.fit_transform(X[train, :])[:, :r]\n",
    "        X_test = JEflip_pca.transform(X[test, :])[:, :r]\n",
    "        \n",
    "        model.fit(X_train, y_train)\n",
    "        \n",
    "        pred = model.predict(X_test)\n",
    "        this_score = sum(pred == y_test) / len(y_test)\n",
    "        \n",
    "        score = np.append(score, this_score)\n",
    "    return score"
   ]
  },
  {
   "cell_type": "code",
   "execution_count": null,
   "metadata": {
    "collapsed": true
   },
   "outputs": [],
   "source": [
    "from sklearn.discriminant_analysis import LinearDiscriminantAnalysis\n",
    "from sklearn.neighbors import KNeighborsClassifier\n",
    "from sklearn import svm\n",
    "from sklearn.tree import DecisionTreeClassifier"
   ]
  },
  {
   "cell_type": "code",
   "execution_count": null,
   "metadata": {
    "collapsed": false
   },
   "outputs": [],
   "source": [
    "score = cross_val_class_accuracy(LinearDiscriminantAnalysis(), JEflipar, \n",
    "                                brca, 10, 0.2, 200)\n",
    "print(score.mean())"
   ]
  },
  {
   "cell_type": "code",
   "execution_count": null,
   "metadata": {
    "collapsed": false
   },
   "outputs": [],
   "source": [
    "testfrac = 1/6 \n",
    "reps = 200\n",
    "\n",
    "lda_r5_scores = cross_val_class_accuracy(LinearDiscriminantAnalysis(), \n",
    "                                          JEflipar, brca, 5,\n",
    "                                          testfrac, reps)\n",
    "lda_r10_scores = cross_val_class_accuracy(LinearDiscriminantAnalysis(), \n",
    "                                          JEflipar, brca, 10,\n",
    "                                          testfrac, reps)\n",
    "knn2_scores = cross_val_class_accuracy(KNeighborsClassifier(n_neighbors=2),\n",
    "                                       JEflipar, brca, 10,\n",
    "                                       testfrac, reps)\n",
    "knn10_scores = cross_val_class_accuracy(KNeighborsClassifier(n_neighbors=10),\n",
    "                                       JEflipar, brca, 10,\n",
    "                                        testfrac, reps)\n",
    "svm_scores = cross_val_class_accuracy(svm.SVC(kernel='linear'),\n",
    "                                      JEflipar, brca, 10, \n",
    "                                      testfrac, reps)\n",
    "tree_scores = cross_val_class_accuracy(DecisionTreeClassifier(max_depth=3),\n",
    "                                       JEflipar, brca, 10,\n",
    "                                       testfrac, reps)"
   ]
  },
  {
   "cell_type": "code",
   "execution_count": null,
   "metadata": {
    "collapsed": false
   },
   "outputs": [],
   "source": [
    "classifiers = ('lda_r5', 'lda_r10', 'knn2', 'knn10', 'svm', 'tree')\n",
    "scores = [lda_r5_scores.mean(), lda_r10_scores.mean(), \n",
    "          knn2_scores.mean(), knn10_scores.mean(),\n",
    "         svm_scores.mean(), tree_scores.mean()]\n",
    "scores_err = [lda_r5_scores.std(), lda_r10_scores.std(), \n",
    "          knn2_scores.std(), knn10_scores.std(),\n",
    "         svm_scores.std(), tree_scores.std()]\n",
    "\n",
    "\n",
    "plt.bar(range(len(classifiers)), scores, \n",
    "        yerr=scores_err,\n",
    "        align='center', alpha=0.4,)\n",
    "plt.xticks(range(len(classifiers)), classifiers)\n",
    "plt.ylabel('Cross-validated accuracy')\n",
    "plt.xlabel('Classification Algorithm')"
   ]
  },
  {
   "cell_type": "code",
   "execution_count": null,
   "metadata": {
    "collapsed": true
   },
   "outputs": [],
   "source": [
    "brca2 = np.array([99,99,99,99,99,99,100,100,100,100,100,100])\n",
    "\n",
    "brca3 = np.array ([1,1,1,1,1,1,0,0,0,0,0,0])"
   ]
  },
  {
   "cell_type": "code",
   "execution_count": null,
   "metadata": {
    "collapsed": false
   },
   "outputs": [],
   "source": [
    "from sklearn import linear_model\n",
    "from sklearn.linear_model import Lasso\n",
    "reg = linear_model.Lasso(alpha = 0.1)\n",
    "reg.fit(JEflip, brca2)\n",
    "print(reg.coef_)\n",
    "output = reg.coef_\n",
    "\n",
    "reg2 = linear_model.Lasso(alpha = 0.1)\n",
    "reg2.fit(JEflip, brca3)\n",
    "print(reg2.coef_)\n",
    "output2 = reg2.coef_\n",
    "\n",
    "output == output2"
   ]
  },
  {
   "cell_type": "code",
   "execution_count": null,
   "metadata": {
    "collapsed": false
   },
   "outputs": [],
   "source": [
    "\n",
    "clf = linear_model.Lasso(alpha=0.1)\n",
    "clf.fit([[0,0], [1, 1], [2, 2]], [0, 1, 2])\n",
    "Lasso(alpha=0.1, copy_X=True, fit_intercept=True, max_iter=1000,\n",
    "   normalize=False, positive=False, precompute=False, random_state=None,\n",
    "   selection='cyclic', tol=0.0001, warm_start=False)\n",
    "print(clf.coef_)\n",
    "print(clf.intercept_)\n",
    "\n"
   ]
  },
  {
   "cell_type": "code",
   "execution_count": null,
   "metadata": {
    "collapsed": false
   },
   "outputs": [],
   "source": [
    "\n"
   ]
  },
  {
   "cell_type": "code",
   "execution_count": null,
   "metadata": {
    "collapsed": false
   },
   "outputs": [],
   "source": []
  },
  {
   "cell_type": "code",
   "execution_count": null,
   "metadata": {
    "collapsed": false
   },
   "outputs": [],
   "source": [
    "train_ind1 = np.random.choice(np.arange(0,6), size=5, replace=False, p=None)\n",
    "train_ind2 = np.random.choice(np.arange(6,12), size=5, replace=False, p=None)\n",
    "print(train_ind1)\n",
    "print(train_ind2)"
   ]
  },
  {
   "cell_type": "code",
   "execution_count": null,
   "metadata": {
    "collapsed": false
   },
   "outputs": [],
   "source": [
    "train_ind = np.concatenate((train_ind1, train_ind2), axis =0)\n",
    "test_ind=  np.setdiff1d(np.arange(0,12), train_ind)"
   ]
  },
  {
   "cell_type": "code",
   "execution_count": null,
   "metadata": {
    "collapsed": false
   },
   "outputs": [],
   "source": [
    "train_ind"
   ]
  },
  {
   "cell_type": "code",
   "execution_count": null,
   "metadata": {
    "collapsed": false
   },
   "outputs": [],
   "source": [
    "test_ind"
   ]
  },
  {
   "cell_type": "code",
   "execution_count": null,
   "metadata": {
    "collapsed": false
   },
   "outputs": [],
   "source": [
    "expression_train=JEflipar[train_ind,:]\n",
    "expression_test=JEflipar[test_ind,:]\n"
   ]
  },
  {
   "cell_type": "code",
   "execution_count": null,
   "metadata": {
    "collapsed": false
   },
   "outputs": [],
   "source": [
    "brca_end = np.array([0,0,0,0,0,0,1,1,1,1,1,1])\n",
    "\n",
    "brcatrain = brca_end[train_ind]\n",
    "brcatest = brca_end[test_ind]\n",
    "\n",
    "#np.concatenate(expression_train,a)"
   ]
  },
  {
   "cell_type": "code",
   "execution_count": null,
   "metadata": {
    "collapsed": true
   },
   "outputs": [],
   "source": [
    "from sklearn.preprocessing import scale\n",
    "from sklearn import cross_validation\n",
    "from sklearn.linear_model import Ridge, RidgeCV, Lasso, LassoCV\n",
    "from sklearn.metrics import mean_squared_error\n",
    "\n",
    "lasso = Lasso(max_iter=10000, normalize=True)"
   ]
  },
  {
   "cell_type": "code",
   "execution_count": null,
   "metadata": {
    "collapsed": false
   },
   "outputs": [],
   "source": [
    "lassocv = LassoCV(alphas=None, cv=10, max_iter=100000, normalize=True)\n",
    "\n",
    "lassocv.fit(expression_train, brcatrain)\n",
    "lasso.set_params(alpha=lassocv.alpha_)\n",
    "lasso.fit(expression_train, brcatrain)\n",
    "mean_squared_error(brcatest, lasso.predict(expression_test))"
   ]
  },
  {
   "cell_type": "code",
   "execution_count": null,
   "metadata": {
    "collapsed": false
   },
   "outputs": [],
   "source": [
    "alphas = 10**np.linspace(10,-2,100)*0.5\n",
    "lasso = Lasso(max_iter=10000, normalize=True)\n",
    "coefs = []\n",
    "for a in alphas:\n",
    "    lasso.set_params(alpha=a)\n",
    "    lasso.fit(scale(expression_train), brcatrain)\n",
    "    coefs.append(lasso.coef_)\n",
    "    \n",
    "    #ax = plt.gca()\n",
    "    #ax.plot(alphas*2, coefs)\n",
    "    #ax.set_xscale('log')\n",
    "    #plt.axis('tight')\n",
    "    #plt.xlabel('tight')\n",
    "    #plt.ylabel('weights')\n",
    "    \n",
    "#np.shape(coefs)\n",
    "#v=coefs\n",
    "#print(v)\n",
    "\n",
    "ax = plt.gca()\n",
    "ax.plot(alphas, coefs)\n",
    "ax.set_xscale('log')\n",
    "plt.axis('tight')\n",
    "plt.xlabel('alpha')\n",
    "plt.ylabel('weights')\n",
    "\n",
    "\n",
    "print(lasso.coef_)\n"
   ]
  },
  {
   "cell_type": "code",
   "execution_count": null,
   "metadata": {
    "collapsed": true
   },
   "outputs": [],
   "source": [
    "\n",
    "\n"
   ]
  },
  {
   "cell_type": "code",
   "execution_count": null,
   "metadata": {
    "collapsed": false
   },
   "outputs": [],
   "source": [
    "lassocv = LassoCV(alphas=None, cv=10, max_iter=100000, normalize=True)\n",
    "\n",
    "lassocv.fit(expression_train, brcatrain)\n",
    "lasso.set_params(alpha=lassocv.alpha_)\n",
    "lasso.fit(expression_train, brcatrain)\n",
    "mean_squared_error(brcatest, lasso.predict(expression_test))\n",
    "\n",
    "lasso.coef_"
   ]
  },
  {
   "cell_type": "code",
   "execution_count": null,
   "metadata": {
    "collapsed": false
   },
   "outputs": [],
   "source": []
  },
  {
   "cell_type": "code",
   "execution_count": null,
   "metadata": {
    "collapsed": false
   },
   "outputs": [],
   "source": []
  },
  {
   "cell_type": "code",
   "execution_count": null,
   "metadata": {
    "collapsed": true
   },
   "outputs": [],
   "source": []
  }
 ],
 "metadata": {
  "anaconda-cloud": {},
  "kernelspec": {
   "display_name": "Python [default]",
   "language": "python",
   "name": "python3"
  },
  "language_info": {
   "codemirror_mode": {
    "name": "ipython",
    "version": 3
   },
   "file_extension": ".py",
   "mimetype": "text/x-python",
   "name": "python",
   "nbconvert_exporter": "python",
   "pygments_lexer": "ipython3",
   "version": "3.5.2"
  }
 },
 "nbformat": 4,
 "nbformat_minor": 1
}
