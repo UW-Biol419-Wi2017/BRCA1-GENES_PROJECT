{
 "cells": [
  {
   "cell_type": "code",
   "execution_count": null,
   "metadata": {
    "collapsed": true
   },
   "outputs": [],
   "source": [
    "import numpy as np\n",
    "import pandas as pd\n",
    "import scipy as sp\n",
    "import pylab as pl\n",
    "import scipy.cluster.hierarchy as hier\n",
    "import scipy.spatial.distance as dist\n",
    "import matplotlib as plt\n",
    "%matplotlib inline"
   ]
  },
  {
   "cell_type": "code",
   "execution_count": null,
   "metadata": {
    "collapsed": true
   },
   "outputs": [],
   "source": [
    "gene = pd.read_excel('gene_expression_table4.xlsx')\n",
    "del gene['Unnamed: 9'] # deleted column without any content\n",
    "#append each column except the first column which is the gene ID\n",
    "just_expression=gene.iloc[0:373,3:14]\n",
    "print(just_expression)\n",
    "just_expression.as_matrix  # transformed dataframe with expression values to array\n",
    "just_expression.shape\n",
    "dist_matrix= dist.pdist(just_expression)\n",
    "dist_square_matrix = dist.squareform(dist_matrix)"
   ]
  },
  {
   "cell_type": "markdown",
   "metadata": {},
   "source": [
    "# Difference of Means"
   ]
  },
  {
   "cell_type": "code",
   "execution_count": null,
   "metadata": {
    "collapsed": true
   },
   "outputs": [],
   "source": [
    "BRCA1_plus= just_expression.iloc[:,0:6]\n",
    "\n",
    "BRCA1_minus= just_expression.iloc[:,7:12]\n",
    "\n",
    "BRCA1_plus_means=np.mean(BRCA1_plus.T)\n",
    "\n",
    "BRCA1_minus_means=np.mean(BRCA1_minus.T)\n",
    "\n",
    "concatenated_means= np.c_[BRCA1_plus_means,BRCA1_minus_means]\n",
    "\n",
    "expression_change_abs= np.abs(np.diff(concatenated_means))\n",
    "\n",
    "expression_change_raw= np.diff(concatenated_means)\n",
    "\n",
    "concatenated_means=np.append(expression_change_abs,expression_change_raw,1) # appended raw and abs value of means"
   ]
  },
  {
   "cell_type": "code",
   "execution_count": null,
   "metadata": {
    "collapsed": true
   },
   "outputs": [],
   "source": [
    "labels=gene.iloc[0:373,0:3] # isolated gene names and functions\n",
    "names=['mean','raw mean']\n",
    "mean_pandas2= pd.DataFrame(concatenated_means,columns=names) # transformed concatenated means to dataframe\n",
    "\n",
    "mean_append= np.append(labels,mean_pandas2,1) # appended gene labels to concatenated means\n",
    "\n",
    "names2= ['gene name', 'symbol','function','abs value mean difference','raw mean difference']\n",
    "labels_and_means =pd.DataFrame(mean_append,columns=names2)\n",
    "\n",
    "sorted_means=labels_and_means.sort(['abs value mean difference'],ascending=False)\n",
    "#print(sorted_means)\n",
    "selected_top_20 = sorted_means.iloc[0:20,]\n",
    "selected_top_20"
   ]
  },
  {
   "cell_type": "code",
   "execution_count": null,
   "metadata": {
    "collapsed": true
   },
   "outputs": [],
   "source": [
    "#from pandas import *\n",
    "#idx = Int64Index([np.arange(373)])9\n",
    "#index_sorted_means = DataFrame(index = np.arange(sorted_means.size), data =(sorted_means))\n",
    "#index_sorted_means\n",
    "#sorted_means\n",
    "names_labels=['labels']\n",
    "index_sorted_means = pd.DataFrame(np.arange(373),columns=names_labels)\n",
    "\n",
    "data_names= ['gene order (high difference to low)','gene name', 'symbol','function','abs value mean difference','raw mean difference']\n",
    "a = np.append(index_sorted_means, sorted_means,1)\n",
    "my_labels= pd.DataFrame(a, columns=data_names)\n",
    "my_labels2= my_labels[my_labels.function !='unknown']\n",
    "my_labels2_select = my_labels2.loc[0:20,]\n",
    "my_labels2_select"
   ]
  },
  {
   "cell_type": "code",
   "execution_count": null,
   "metadata": {
    "collapsed": true
   },
   "outputs": [],
   "source": [
    "from ggplot import *\n",
    "limit_graph = my_labels2.iloc[0:373, :]\n",
    "ggplot(limit_graph, aes(x = 'gene order (high difference to low)', y = 'abs value mean difference', color = 'function')) + \\\n",
    "    geom_point(size = 45) + \\\n",
    "    ggtitle(\"Difference of Means For All 373 Genes\")"
   ]
  },
  {
   "cell_type": "code",
   "execution_count": null,
   "metadata": {
    "collapsed": true
   },
   "outputs": [],
   "source": [
    "from ggplot import *\n",
    "ggplot(limit_graph, aes(x = 'gene order (high difference to low)', y = 'raw mean difference', color = 'function')) + \\\n",
    "    geom_point(size = 100) + \\\n",
    "    ggtitle(\"Difference of Mean Gene Expression For All Genes (BRCA high - BRCA low)\", ) "
   ]
  },
  {
   "cell_type": "code",
   "execution_count": null,
   "metadata": {
    "collapsed": true
   },
   "outputs": [],
   "source": [
    "from ggplot import *\n",
    "limit_graph = my_labels2.iloc[0:20, :]\n",
    "ggplot(limit_graph, aes(x = 'gene order (high difference to low)', y = 'abs value mean difference', color = 'function')) + \\\n",
    "    geom_point(size = 45) + \\\n",
    "    ggtitle(\"Difference of Means For Top 20 Genes\")"
   ]
  },
  {
   "cell_type": "code",
   "execution_count": null,
   "metadata": {
    "collapsed": true
   },
   "outputs": [],
   "source": [
    "from ggplot import *\n",
    "ggplot(limit_graph, aes(x = 'gene order (high difference to low)', y = 'raw mean difference', color = 'function')) + \\\n",
    "    geom_point(size = 100) + \\\n",
    "    ggtitle(\"Difference of Mean Gene Expression For Top 20 (BRCA high - BRCA low)\", ) "
   ]
  },
  {
   "cell_type": "code",
   "execution_count": null,
   "metadata": {
    "collapsed": true
   },
   "outputs": [],
   "source": []
  }
 ],
 "metadata": {
  "anaconda-cloud": {},
  "kernelspec": {
   "display_name": "Python [default]",
   "language": "python",
   "name": "python3"
  },
  "language_info": {
   "codemirror_mode": {
    "name": "ipython",
    "version": 3
   },
   "file_extension": ".py",
   "mimetype": "text/x-python",
   "name": "python",
   "nbconvert_exporter": "python",
   "pygments_lexer": "ipython3",
   "version": "3.5.2"
  }
 },
 "nbformat": 4,
 "nbformat_minor": 1
}
