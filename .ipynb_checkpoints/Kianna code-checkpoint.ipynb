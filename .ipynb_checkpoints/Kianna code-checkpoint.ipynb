{
 "cells": [
  {
   "cell_type": "code",
   "execution_count": null,
   "metadata": {
    "collapsed": true
   },
   "outputs": [],
   "source": [
    "# Kianna's Code"
   ]
  },
  {
   "cell_type": "code",
   "execution_count": null,
   "metadata": {
    "collapsed": true
   },
   "outputs": [],
   "source": [
    "# Borrowed from Jose\n",
    "import numpy as np\n",
    "import pandas as pd\n",
    "import scipy as sp\n",
    "import pylab as pl\n",
    "import scipy.cluster.hierarchy as hier\n",
    "import scipy.spatial.distance as dist\n",
    "import matplotlib as plt\n",
    "%matplotlib inline"
   ]
  },
  {
   "cell_type": "code",
   "execution_count": null,
   "metadata": {
    "collapsed": false
   },
   "outputs": [],
   "source": [
    "# Borrowed from Jose\n",
    "gene = pd.read_excel('gene_expression_table4.xlsx')\n",
    "#print(gene)\n",
    "#datamatrix=[]\n",
    "del gene['Unnamed: 9'] # deleted column without any content\n",
    "#append each column except the first column which is the gene ID\n",
    "just_expression=gene.iloc[0:373,3:14]\n",
    "print(just_expression)\n",
    "just_expression.as_matrix  # transformed dataframe with expression values to array\n",
    "just_expression.shape\n",
    "dist_matrix= dist.pdist(just_expression)\n",
    "dist_square_matrix = dist.squareform(dist_matrix)\n",
    "#print(dist_square_matrix)"
   ]
  },
  {
   "cell_type": "code",
   "execution_count": null,
   "metadata": {
    "collapsed": false
   },
   "outputs": [],
   "source": [
    " # gene"
   ]
  },
  {
   "cell_type": "code",
   "execution_count": null,
   "metadata": {
    "collapsed": false
   },
   "outputs": [],
   "source": [
    "# Structure of this lasso found on :\n",
    "# https://www.analyticsvidhya.com/blog/2016/01/complete-tutorial-ridge-lasso-regression-python/\n",
    "\n",
    "# Notes on thie lasso function\n",
    "\n",
    "#    α = 0: Same coefficients as simple linear regression\n",
    "#    α = ∞: All coefficients zero\n",
    "#    0 < α < ∞: coefficients between 0 and that of simple linear regression\n",
    "\n",
    "#    Goal: 10 coefficients that are not 0\n",
    "\n",
    "from sklearn.linear_model import Lasso\n",
    "def lasso_regression(data, predictors, alpha, models_to_plot={}):\n",
    "    #Fit the model\n",
    "    lassoreg = Lasso(alpha=alpha,normalize=True, max_iter=1e5)\n",
    "    lassoreg.fit(data[predictors],data['y'])\n",
    "    y_pred = lassoreg.predict(data[predictors])\n",
    "    \n",
    "    #Check if a plot is to be made for the entered alpha\n",
    "    if alpha in models_to_plot:\n",
    "        plt.subplot(models_to_plot[alpha])\n",
    "        plt.tight_layout()\n",
    "        plt.plot(data['x'],y_pred)\n",
    "        plt.plot(data['x'],data['y'],'.')\n",
    "        plt.title('Plot for alpha: %.3g'%alpha)\n",
    "    \n",
    "    #Return the result in pre-defined format\n",
    "    rss = sum((y_pred-data['y'])**2)\n",
    "    ret = [rss]\n",
    "    ret.extend([lassoreg.intercept_])\n",
    "    ret.extend(lassoreg.coef_)\n",
    "    return ret"
   ]
  },
  {
   "cell_type": "code",
   "execution_count": null,
   "metadata": {
    "collapsed": false
   },
   "outputs": [],
   "source": [
    "#Initialize predictors to all 15 powers of x\n",
    "predictors=['x']\n",
    "predictors.extend(['x_%d'%i for i in range(2,16)])\n",
    "\n",
    "#Define the alpha values to test\n",
    "alpha_lasso = [1e-15, 1e-10, 1e-8, 1e-5,1e-4, 1e-3,1e-2, 1, 5, 10]\n",
    "\n",
    "#Initialize the dataframe to store coefficients\n",
    "col = ['rss','intercept'] + ['coef_x_%d'%i for i in range(1,16)]\n",
    "ind = ['alpha_%.2g'%alpha_lasso[i] for i in range(0,10)]\n",
    "coef_matrix_lasso = pd.DataFrame(index=ind, columns=col)\n",
    "\n",
    "#Define the models to plot\n",
    "models_to_plot = {1e-10:231, 1e-5:232,1e-4:233, 1e-3:234, 1e-2:235, 1:236}\n",
    "\n",
    "#Iterate over the 10 alpha values:\n",
    "for i in range(10):\n",
    "    coef_matrix_lasso.iloc[i,] = lasso_regression(gene, just_expression, alpha_lasso[i], models_to_plot)"
   ]
  },
  {
   "cell_type": "code",
   "execution_count": null,
   "metadata": {
    "collapsed": true
   },
   "outputs": [],
   "source": [
    "# Jose's\n",
    "#print(just_expression)\n",
    "BRCA1_plus= just_expression.iloc[:,0:6]\n",
    "#print(BRCA1_plus.T)\n",
    "BRCA1_minus= just_expression.iloc[:,7:12]\n",
    "#print(BRCA1_minus.T)\n",
    "\n",
    "BRCA1_plus_means=np.mean(BRCA1_plus.T)\n",
    "#print(BRCA1_plus_means.shape)\n",
    "BRCA1_minus_means=np.mean(BRCA1_minus.T)\n",
    "#print(BRCA1_minus_means.shape)\n",
    "\n",
    "concatenated_means= np.c_[BRCA1_plus_means,BRCA1_minus_means]\n",
    "#print(concatenated_means)\n",
    "\n",
    "expression_change_abs= np.abs(np.diff(concatenated_means))\n",
    "#print(expression_change_abs.shape)\n",
    "\n",
    "expression_change_raw= np.diff(concatenated_means)\n",
    "#print(expression_change_raw)\n",
    "\n",
    "concatenated_means=np.append(expression_change_abs,expression_change_raw,1) # appended raw and abs value of means\n",
    "#print(r)"
   ]
  },
  {
   "cell_type": "code",
   "execution_count": null,
   "metadata": {
    "collapsed": false
   },
   "outputs": [],
   "source": [
    "# Jose's\n",
    "labels=gene.iloc[0:373,0:3] # isolated gene names and functions\n",
    "#print(labels.shape)\n",
    "names=['mean','raw mean']\n",
    "mean_pandas2= pd.DataFrame(concatenated_means,columns=names) # transformed concatenated means to dataframe\n",
    "print(mean_pandas2.shape)\n",
    "\n",
    "mean_append= np.append(labels,mean_pandas2,1) # appended gene labels to concatenated means\n",
    "\n",
    "names2= ['gene name', 'symbol','function','abs value mean difference','raw mean difference']\n",
    "labels_and_means =pd.DataFrame(mean_append,columns=names2)\n",
    "\n",
    "sorted_means=labels_and_means.sort(['abs value mean difference'],ascending=False)\n",
    "print(sorted_means)"
   ]
  },
  {
   "cell_type": "code",
   "execution_count": null,
   "metadata": {
    "collapsed": false
   },
   "outputs": [],
   "source": [
    "#from pandas import *\n",
    "#idx = Int64Index([np.arange(373)])9\n",
    "#index_sorted_means = DataFrame(index = np.arange(sorted_means.size), data =(sorted_means))\n",
    "#index_sorted_means\n",
    "#sorted_means\n",
    "names_labels=['labels']\n",
    "index_sorted_means = pd.DataFrame(np.arange(373),columns=names_labels)\n",
    "#print(index_sorted_means)\n",
    "\n",
    "data_names= ['labels','gene name', 'symbol','function','abs value mean difference','raw mean difference']\n",
    "a = np.append(index_sorted_means, sorted_means,1)\n",
    "my_labels= pd.DataFrame(a, columns=data_names)\n",
    "my_labels2= my_labels[my_labels.function !='unknown']\n",
    "my_labels2\n"
   ]
  },
  {
   "cell_type": "code",
   "execution_count": null,
   "metadata": {
    "collapsed": false
   },
   "outputs": [],
   "source": [
    "from ggplot import *\n",
    "limit_graph = my_labels2.iloc[0:20, :]\n",
    "ggplot(limit_graph, aes(x = 'labels', y = 'abs value mean difference', color = 'function')) + \\\n",
    "    geom_point(size = 45)"
   ]
  },
  {
   "cell_type": "code",
   "execution_count": null,
   "metadata": {
    "collapsed": false
   },
   "outputs": [],
   "source": [
    "from ggplot import *\n",
    "ggplot(limit_graph, aes(x = 'labels', y = 'raw mean difference', color = 'function')) + \\\n",
    "    geom_point(size = 45)"
   ]
  }
 ],
 "metadata": {
  "anaconda-cloud": {},
  "kernelspec": {
   "display_name": "Python [default]",
   "language": "python",
   "name": "python3"
  },
  "language_info": {
   "codemirror_mode": {
    "name": "ipython",
    "version": 3
   },
   "file_extension": ".py",
   "mimetype": "text/x-python",
   "name": "python",
   "nbconvert_exporter": "python",
   "pygments_lexer": "ipython3",
   "version": "3.5.2"
  }
 },
 "nbformat": 4,
 "nbformat_minor": 1
}
