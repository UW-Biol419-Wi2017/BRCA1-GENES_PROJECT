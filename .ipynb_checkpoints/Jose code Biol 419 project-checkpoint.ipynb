{
 "cells": [
  {
   "cell_type": "code",
   "execution_count": null,
   "metadata": {
    "collapsed": false
   },
   "outputs": [],
   "source": [
    "\n",
    "import numpy as np\n",
    "import pandas as pd\n",
    "import scipy as sp\n",
    "import scipy.cluster.hierarchy as hier\n",
    "import scipy.spatial.distance as dist\n",
    "import matplotlib.pyplot as plt\n",
    "\n",
    "%matplotlib inline"
   ]
  },
  {
   "cell_type": "code",
   "execution_count": null,
   "metadata": {
    "collapsed": false
   },
   "outputs": [],
   "source": [
    "gene = pd.read_excel('gene_expression_table4.xlsx')\n",
    "#print(gene)\n",
    "datamatrix=[]\n",
    "del gene['Unnamed: 9'] # deleted column without any content\n",
    "#append each column except the first column which is the gene ID\n",
    "just_expression=gene.iloc[0:373,3:14]\n",
    "print(just_expression)\n",
    "just_expression.as_matrix  # transformed dataframe with expression values to array\n",
    "just_expression.shape\n",
    "dist_matrix= dist.pdist(just_expression)\n",
    "dist_square_matrix = dist.squareform(dist_matrix)\n",
    "#print(dist_square_matrix)"
   ]
  },
  {
   "cell_type": "code",
   "execution_count": null,
   "metadata": {
    "collapsed": false
   },
   "outputs": [],
   "source": [
    "# Compute and plot dendrogram.\n",
    "fig = pl.figure()\n",
    "axdendro = fig.add_axes([0.09,0.1,0.2,0.8])\n",
    "linkageMatrix = hier.linkage(dist_square_matrix, method='centroid') # created linkage matrix\n",
    "dendrogram = hier.dendrogram(linkageMatrix, orientation='left') # produced dendrogram of the linkage matrix                             #Y = sch.linkage(D, method='centroid')\n",
    "#Z = sch.dendrogram(Y, orientation='right')\n",
    "axdendro.set_xticks([])\n",
    "axdendro.set_yticks([])\n",
    "\n",
    "# Plot distance matrix.\n",
    "axmatrix = fig.add_axes([0.3,0.1,0.6,0.8])\n",
    "index = dendrogram['leaves']\n",
    "im = axmatrix.matshow(just_expression, aspect='auto', origin='lower')\n",
    "axmatrix.set_xticks([])\n",
    "axmatrix.set_yticks([])\n",
    "\n",
    "# Plot colorbar.\n",
    "axcolor = fig.add_axes([0.91,0.1,0.02,0.8])\n",
    "pl.colorbar(im, cax=axcolor, label= 'log2 expression')\n",
    "\n",
    "# Display and save figure.\n",
    "fig.show()\n",
    "fig.savefig('dendrogram.png')\n",
    "fig.set_figheight(10)"
   ]
  },
  {
   "cell_type": "code",
   "execution_count": null,
   "metadata": {
    "collapsed": false
   },
   "outputs": [],
   "source": [
    "#print(just_expression)\n",
    "BRCA1_plus= just_expression.iloc[:,0:6]\n",
    "#print(BRCA1_plus.T)\n",
    "BRCA1_minus= just_expression.iloc[:,7:12]\n",
    "#print(BRCA1_minus.T)\n",
    "\n",
    "BRCA1_plus_means=np.mean(BRCA1_plus.T)\n",
    "#print(BRCA1_plus_means.shape)\n",
    "BRCA1_minus_means=np.mean(BRCA1_minus.T)\n",
    "#print(BRCA1_minus_means.shape)\n",
    "\n",
    "concatenated_means= np.c_[BRCA1_plus_means,BRCA1_minus_means]\n",
    "#print(concatenated_means)\n",
    "\n",
    "expression_change_abs= np.abs(np.diff(concatenated_means))\n",
    "#print(expression_change_abs.shape)\n",
    "\n",
    "expression_change_raw= np.diff(concatenated_means)\n",
    "#print(expression_change_raw)\n",
    "\n",
    "r=np.append(expression_change_abs,expression_change_raw,1)\n",
    "print(r)"
   ]
  },
  {
   "cell_type": "code",
   "execution_count": null,
   "metadata": {
    "collapsed": false
   },
   "outputs": [],
   "source": [
    "a=gene.iloc[0:373,0:3]\n",
    "print(a.shape)\n",
    "names=['mean','raw mean']\n",
    "mean_pandas_abs= pd.DataFrame(r,columns=names)\n",
    "print(mean_pandas.shape)\n",
    "\n",
    "mean_append= np.append(a,mean_pandas,1)\n",
    "\n",
    "names2= ['gene name', 'symbol','function','abs value mean difference','raw mean difference']\n",
    "h=pd.DataFrame(means2_append,columns=names2)\n",
    "\n",
    "sorted_means=h.sort(['abs value mean difference'],ascending=False)\n",
    "print(sorted_means)\n",
    "\n",
    "\n"
   ]
  },
  {
   "cell_type": "code",
   "execution_count": null,
   "metadata": {
    "collapsed": false
   },
   "outputs": [],
   "source": [
    " \n",
    "fig= plt.figure()\n",
    "\n",
    "#plt.subplot(211)\n",
    "#plt.plot(np.arange(373),sorted_means.iloc[:,3],':')\n",
    "fig.set_figheight(10)\n",
    "fig.set_figwidth(20)\n",
    "#plt.subplot(212)\n",
    "#plt.plot(np.arange(373),sorted_means.iloc[:,4],'.')\n",
    "\n",
    "\n",
    "f=np.unique(sorted_means.iloc[:,2])\n",
    "print(f)\n",
    "\n",
    "for i in np.unique(sorted_means.iloc[:,2]):\n",
    "    plt.plot(np.arange(373),sorted_means.iloc[:,3],':' )\n"
   ]
  },
  {
   "cell_type": "code",
   "execution_count": null,
   "metadata": {
    "collapsed": false
   },
   "outputs": [],
   "source": [
    "u=sorted_means.groupby(['function'])\n",
    "u.describe\n"
   ]
  },
  {
   "cell_type": "code",
   "execution_count": null,
   "metadata": {
    "collapsed": false
   },
   "outputs": [],
   "source": []
  },
  {
   "cell_type": "code",
   "execution_count": null,
   "metadata": {
    "collapsed": true
   },
   "outputs": [],
   "source": []
  }
 ],
 "metadata": {
  "anaconda-cloud": {},
  "kernelspec": {
   "display_name": "Python [default]",
   "language": "python",
   "name": "python3"
  },
  "language_info": {
   "codemirror_mode": {
    "name": "ipython",
    "version": 3
   },
   "file_extension": ".py",
   "mimetype": "text/x-python",
   "name": "python",
   "nbconvert_exporter": "python",
   "pygments_lexer": "ipython3",
   "version": "3.5.2"
  }
 },
 "nbformat": 4,
 "nbformat_minor": 1
}
