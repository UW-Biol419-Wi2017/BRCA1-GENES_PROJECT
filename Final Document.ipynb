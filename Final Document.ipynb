{
 "cells": [
  {
   "cell_type": "code",
   "execution_count": null,
   "metadata": {
    "collapsed": true
   },
   "outputs": [],
   "source": [
    "import numpy as np\n",
    "import pandas as pd\n",
    "import scipy as sp\n",
    "import pylab as pl\n",
    "import scipy.cluster.hierarchy as hier\n",
    "import scipy.spatial.distance as dist\n",
    "import matplotlib.pyplot as plt\n",
    "%matplotlib inline"
   ]
  },
  {
   "cell_type": "code",
   "execution_count": null,
   "metadata": {
    "collapsed": false
   },
   "outputs": [],
   "source": [
    "gene = pd.read_excel('gene_expression_table4.xlsx') # this is an edited version of the raw data table\n",
    "del gene['Unnamed: 9'] # deleted column without any content\n",
    "#append each column except the first column which is the gene ID\n",
    "just_expression=gene.iloc[0:373,3:14]\n",
    "print(just_expression)\n",
    "just_expression.as_matrix  # transformed dataframe with expression values to array\n",
    "#just_expression.shape\n",
    "#dist_matrix= dist.pdist(just_expression)\n",
    "#dist_square_matrix = dist.squareform(dist_matrix)"
   ]
  },
  {
   "cell_type": "markdown",
   "metadata": {},
   "source": [
    "# PCA and classification"
   ]
  },
  {
   "cell_type": "code",
   "execution_count": null,
   "metadata": {
    "collapsed": false
   },
   "outputs": [],
   "source": [
    "#From Jose\n",
    "gene = pd.read_excel('gene_expression_table4.xlsx')\n",
    "del gene['Unnamed: 9']\n",
    "# deleted column without any content\n",
    "#append each column except the first column which is the gene ID\n",
    "just_expression=gene.iloc[0:373,3:15]\n",
    "just_expression\n"
   ]
  },
  {
   "cell_type": "code",
   "execution_count": null,
   "metadata": {
    "collapsed": false
   },
   "outputs": [],
   "source": [
    "#flipping rows and columns so the columns are the genes\n",
    "\n",
    "JEflip = just_expression.transpose()\n",
    "print(JEflip)\n",
    "\n",
    "JEflipar = JEflip.values\n",
    "JEflipar"
   ]
  },
  {
   "cell_type": "code",
   "execution_count": null,
   "metadata": {
    "collapsed": true
   },
   "outputs": [],
   "source": [
    "#Making a new array to label gene expression under low or high BRCA1 (rows in JEflip)\n",
    "brca = np.array(['BRCA1-','BRCA1-','BRCA1-','BRCA1-','BRCA1-','BRCA1-',\n",
    "         'BRCA1+','BRCA1+','BRCA1+','BRCA1+','BRCA1+','BRCA1+'])"
   ]
  },
  {
   "cell_type": "code",
   "execution_count": null,
   "metadata": {
    "collapsed": false
   },
   "outputs": [],
   "source": [
    "from sklearn.decomposition import PCA\n",
    "JEflip_pca = PCA()\n",
    "JEflippc = JEflip_pca.fit_transform(JEflipar) # 12x12 matrix\n",
    "print(JEflip_pca.explained_variance_ratio_)\n",
    "print(np.cumsum(JEflip_pca.explained_variance_ratio_))"
   ]
  },
  {
   "cell_type": "code",
   "execution_count": null,
   "metadata": {
    "collapsed": false
   },
   "outputs": [],
   "source": [
    "fg = plt.figure()\n",
    "\n",
    "plt.plot(np.cumsum(JEflip_pca.explained_variance_ratio_))\n",
    "plt.xlabel(\"PC's\")\n",
    "plt.ylabel('fraction var explained')\n",
    "plt.title(\"PC's of 373 genes\")\n",
    "\n",
    "JEvar = JEflip_pca.explained_variance_ratio_\n",
    "cumvar = np.cumsum(JEvar) \n",
    "for i in range (12):\n",
    "    if cumvar[i] >= 0.9:\n",
    "        print (i+1, 'components are need to explain 90% of the variance')\n",
    "        break\n",
    "        \n",
    "# 5 of the 12 PCs needed to explain 90% of the variance\n",
    "# but the first PC already explains more than 75% of the variance"
   ]
  },
  {
   "cell_type": "code",
   "execution_count": null,
   "metadata": {
    "collapsed": false
   },
   "outputs": [],
   "source": [
    "# Plot function from homework 5 key\n",
    "\n",
    "fg = plt.figure()\n",
    "\n",
    "fg.add_subplot(3,1,1)\n",
    "for c in np.unique(brca):\n",
    "    plt.plot(JEflippc[brca==c,0], \n",
    "             JEflippc[brca==c,1], 'o')\n",
    "plt.xlabel('PC1')    \n",
    "plt.ylabel('PC2')\n",
    "\n",
    "fg.add_subplot(3,1,2)\n",
    "for c in np.unique(brca):\n",
    "    plt.plot(JEflippc[brca==c,0], \n",
    "             JEflippc[brca==c,5], 'o')\n",
    "plt.xlabel('PC1')    \n",
    "plt.ylabel('PC6')\n",
    "\n",
    "fg.add_subplot(3,1,3)\n",
    "for c in np.unique(brca):\n",
    "    plt.plot(JEflippc[brca==c,0], \n",
    "             JEflippc[brca==c,11], 'o')\n",
    "plt.xlabel('PC1')    \n",
    "plt.ylabel('PC12')\n",
    "\n",
    "plt.tight_layout()\n",
    "\n",
    "#When the indiviual PCs are compoared with the first PC, always a clear separation into \n",
    "#2 groups of 6 samples - corresponds to BRCA1+ or BRCA1-.\n",
    "#Here example of 3"
   ]
  },
  {
   "cell_type": "code",
   "execution_count": null,
   "metadata": {
    "collapsed": false
   },
   "outputs": [],
   "source": [
    "for i in np.unique(brca):\n",
    "    plt.plot(JEflippc[brca==i,0], \n",
    "             JEflippc[brca==i,1], 'o' )\n",
    "plt.xlabel('PC1')    \n",
    "plt.ylabel('PC2')\n",
    "plt.title('PC1 and PC2, coloured by BRCA1 status')\n"
   ]
  },
  {
   "cell_type": "code",
   "execution_count": null,
   "metadata": {
    "collapsed": false
   },
   "outputs": [],
   "source": [
    "#Function from homework 5 key\n",
    "\n",
    "for c in np.unique(brca):\n",
    "    plt.plot(JEflippc[brca==c,1], \n",
    "             JEflippc[brca==c,2], 'o')\n",
    "plt.xlabel('PC2')    \n",
    "plt.ylabel('PC3')\n",
    "\n",
    "# When compared between other PCs that are not the first PC, less clear separation"
   ]
  },
  {
   "cell_type": "code",
   "execution_count": null,
   "metadata": {
    "collapsed": true
   },
   "outputs": [],
   "source": [
    "# test and train data specifically for this dataset\n",
    "\n",
    "#train_ind1 = np.random.choice(np.arange(0,6), size=5, replace=False, p=None)\n",
    "#train_ind2 = np.random.choice(np.arange(6,12), size=5, replace=False, p=None)\n",
    "\n",
    "#train_ind = np.concatenate((train_ind1, train_ind2), axis =0)\n",
    "#test_ind=  np.setdiff1d(np.arange(0,12), train_ind)\n",
    "\n",
    "#print(train_ind)\n",
    "#print(test_ind)"
   ]
  },
  {
   "cell_type": "code",
   "execution_count": null,
   "metadata": {
    "collapsed": true
   },
   "outputs": [],
   "source": [
    "# Function from homework 5 key \n",
    "\n",
    "from sklearn.decomposition import PCA\n",
    "\n",
    "#def cross_val_class_accuracy(model, X, y, r, test_frac, reps):\n",
    "\n",
    "def cross_val_class_accuracy(model, X, y, r, reps):    \n",
    "    JEflip_pca = PCA()\n",
    "    \n",
    "    score = np.array([])\n",
    "    for i in range(reps):\n",
    "        train_ind1 = np.random.choice(np.arange(0,6), size=5, replace=False, p=None)\n",
    "        train_ind2 = np.random.choice(np.arange(6,12), size=5, replace=False, p=None)\n",
    "        train_ind = np.concatenate((train_ind1, train_ind2), axis =0)\n",
    "        test_ind=  np.setdiff1d(np.arange(0,12), train_ind)\n",
    "    \n",
    "        y_train = y[train_ind]\n",
    "        y_test = y[test_ind]\n",
    "        \n",
    "        X_train = JEflip_pca.fit_transform(X[train_ind, :])[:, :r]\n",
    "        X_test = JEflip_pca.transform(X[test_ind, :])[:, :r]\n",
    "        \n",
    "        model.fit(X_train, y_train)\n",
    "        \n",
    "        pred = model.predict(X_test)\n",
    "        this_score = sum(pred == y_test) / len(y_test)\n",
    "       \n",
    "        score = np.append(score, this_score)\n",
    "    return score\n",
    "\n"
   ]
  },
  {
   "cell_type": "code",
   "execution_count": null,
   "metadata": {
    "collapsed": true
   },
   "outputs": [],
   "source": [
    "from sklearn.discriminant_analysis import LinearDiscriminantAnalysis\n",
    "from sklearn.neighbors import KNeighborsClassifier\n",
    "from sklearn import svm\n",
    "from sklearn.tree import DecisionTreeClassifier"
   ]
  },
  {
   "cell_type": "code",
   "execution_count": null,
   "metadata": {
    "collapsed": false
   },
   "outputs": [],
   "source": [
    "score = cross_val_class_accuracy(KNeighborsClassifier(n_neighbors=2), JEflipar, \n",
    "                                brca, 10, 200)\n",
    "print(score.mean())\n",
    "\n"
   ]
  },
  {
   "cell_type": "code",
   "execution_count": null,
   "metadata": {
    "collapsed": false
   },
   "outputs": [],
   "source": [
    "reps = 200\n",
    "\n",
    "lda_r5_scores = cross_val_class_accuracy(LinearDiscriminantAnalysis(), \n",
    "                                          JEflipar, brca, 5,\n",
    "                                          reps)\n",
    "lda_r10_scores = cross_val_class_accuracy(LinearDiscriminantAnalysis(), \n",
    "                                          JEflipar, brca, 10,\n",
    "                                            reps)\n",
    "knn2_scores = cross_val_class_accuracy(KNeighborsClassifier(n_neighbors=2),\n",
    "                                       JEflipar, brca, 10,\n",
    "                                       reps)\n",
    "knn10_scores = cross_val_class_accuracy(KNeighborsClassifier(n_neighbors=10),\n",
    "                                       JEflipar, brca, 10,\n",
    "                                        reps)\n",
    "svm_scores = cross_val_class_accuracy(svm.SVC(kernel='linear'),\n",
    "                                      JEflipar, brca, 10,\n",
    "                                      reps)\n",
    "tree_scores = cross_val_class_accuracy(DecisionTreeClassifier(max_depth=3),\n",
    "                                       JEflipar, brca, 10,\n",
    "                                       reps)"
   ]
  },
  {
   "cell_type": "code",
   "execution_count": null,
   "metadata": {
    "collapsed": false
   },
   "outputs": [],
   "source": [
    "classifiers = ('lda_r5', 'lda_r10', 'knn2', 'knn10', 'svm', 'tree')\n",
    "scores = [lda_r5_scores.mean(), lda_r10_scores.mean(), \n",
    "          knn2_scores.mean(), knn10_scores.mean(),\n",
    "         svm_scores.mean(), tree_scores.mean()]\n",
    "scores_err = [lda_r5_scores.std(), lda_r10_scores.std(), \n",
    "          knn2_scores.std(), knn10_scores.std(),\n",
    "         svm_scores.std(), tree_scores.std()]\n",
    "\n",
    "\n",
    "plt.bar(range(len(classifiers)), scores, \n",
    "        yerr=scores_err,\n",
    "        align='center', alpha=0.4,)\n",
    "plt.xticks(range(len(classifiers)), classifiers)\n",
    "plt.ylabel('Cross-validated accuracy')\n",
    "plt.xlabel('Classification Algorithm')\n",
    "plt.title('Cross validation of four different kinds of classification models')"
   ]
  },
  {
   "cell_type": "code",
   "execution_count": null,
   "metadata": {
    "collapsed": true
   },
   "outputs": [],
   "source": [
    "# lda with 5 pcs does well\n",
    "# knn with 2 neighbours and 10 pcs does well\n",
    "# svm and decision tree do well "
   ]
  },
  {
   "cell_type": "markdown",
   "metadata": {},
   "source": [
    "# Difference of Means"
   ]
  },
  {
   "cell_type": "code",
   "execution_count": null,
   "metadata": {
    "collapsed": true
   },
   "outputs": [],
   "source": [
    "BRCA1_plus= just_expression.iloc[:,0:6]\n",
    "\n",
    "BRCA1_minus= just_expression.iloc[:,7:12]\n",
    "\n",
    "BRCA1_plus_means=np.mean(BRCA1_plus.T)\n",
    "\n",
    "BRCA1_minus_means=np.mean(BRCA1_minus.T)\n",
    "\n",
    "concatenated_means= np.c_[BRCA1_plus_means,BRCA1_minus_means]\n",
    "\n",
    "expression_change_abs= np.abs(np.diff(concatenated_means))\n",
    "\n",
    "expression_change_raw= np.diff(concatenated_means)\n",
    "\n",
    "concatenated_means=np.append(expression_change_abs,expression_change_raw,1) # appended raw and abs value of means"
   ]
  },
  {
   "cell_type": "code",
   "execution_count": null,
   "metadata": {
    "collapsed": false
   },
   "outputs": [],
   "source": [
    "labels=gene.iloc[0:373,0:3] # isolated gene names and functions\n",
    "names=['mean','raw mean']\n",
    "mean_pandas2= pd.DataFrame(concatenated_means,columns=names) # transformed concatenated means to dataframe\n",
    "\n",
    "mean_append= np.append(labels,mean_pandas2,1) # appended gene labels to concatenated means\n",
    "\n",
    "names2= ['gene name', 'symbol','function','abs value mean difference','raw mean difference']\n",
    "labels_and_means =pd.DataFrame(mean_append,columns=names2)\n",
    "\n",
    "sorted_means=labels_and_means.sort(['abs value mean difference'],ascending=False)\n",
    "#print(sorted_means)\n",
    "selected_top_20 = sorted_means.iloc[0:20,]\n",
    "selected_top_20"
   ]
  },
  {
   "cell_type": "code",
   "execution_count": null,
   "metadata": {
    "collapsed": false
   },
   "outputs": [],
   "source": [
    "#from pandas import *\n",
    "#idx = Int64Index([np.arange(373)])9\n",
    "#index_sorted_means = DataFrame(index = np.arange(sorted_means.size), data =(sorted_means))\n",
    "#index_sorted_means\n",
    "#sorted_means\n",
    "names_labels=['labels']\n",
    "index_sorted_means = pd.DataFrame(np.arange(373),columns=names_labels)\n",
    "\n",
    "data_names= ['gene order (high difference to low)','gene name', 'symbol','function','abs value mean difference','raw mean difference']\n",
    "a = np.append(index_sorted_means, sorted_means,1)\n",
    "my_labels= pd.DataFrame(a, columns=data_names)\n",
    "my_labels2= my_labels[my_labels.function !='unknown']\n",
    "my_labels2_select = my_labels2.loc[0:20,]\n",
    "my_labels2_select"
   ]
  },
  {
   "cell_type": "code",
   "execution_count": null,
   "metadata": {
    "collapsed": false
   },
   "outputs": [],
   "source": [
    "from ggplot import *\n",
    "limit_graph = my_labels2.iloc[0:373, :]\n",
    "ggplot(limit_graph, aes(x = 'gene order (high difference to low)', y = 'abs value mean difference', color = 'function')) + \\\n",
    "    geom_point(size = 45) + \\\n",
    "    ggtitle(\"Difference of Means For All 373 Genes\")"
   ]
  },
  {
   "cell_type": "code",
   "execution_count": null,
   "metadata": {
    "collapsed": true
   },
   "outputs": [],
   "source": [
    "from ggplot import *\n",
    "ggplot(limit_graph, aes(x = 'gene order (high difference to low)', y = 'raw mean difference', color = 'function')) + \\\n",
    "    geom_point(size = 100) + \\\n",
    "    ggtitle(\"Difference of Mean Gene Expression For All Genes (BRCA high - BRCA low)\", ) "
   ]
  },
  {
   "cell_type": "code",
   "execution_count": null,
   "metadata": {
    "collapsed": true
   },
   "outputs": [],
   "source": [
    "from ggplot import *\n",
    "limit_graph = my_labels2.iloc[0:20, :]\n",
    "ggplot(limit_graph, aes(x = 'gene order (high difference to low)', y = 'abs value mean difference', color = 'function')) + \\\n",
    "    geom_point(size = 45) + \\\n",
    "    ggtitle(\"Difference of Means For Top 20 Genes\")"
   ]
  },
  {
   "cell_type": "code",
   "execution_count": null,
   "metadata": {
    "collapsed": true
   },
   "outputs": [],
   "source": [
    "from ggplot import *\n",
    "ggplot(limit_graph, aes(x = 'gene order (high difference to low)', y = 'raw mean difference', color = 'function')) + \\\n",
    "    geom_point(size = 100) + \\\n",
    "    ggtitle(\"Difference of Mean Gene Expression For Top 20 (BRCA high - BRCA low)\", ) "
   ]
  },
  {
   "cell_type": "markdown",
   "metadata": {
    "collapsed": true
   },
   "source": [
    "# Lasso "
   ]
  },
  {
   "cell_type": "code",
   "execution_count": null,
   "metadata": {
    "collapsed": true
   },
   "outputs": [],
   "source": [
    "#First make sure of the data to use\n",
    "#array of 'brca1' did not work, so used numbers\n",
    "#tried for numbers 0,1 or 99,100\n",
    "#no difference, so should be ok to use 0,1"
   ]
  },
  {
   "cell_type": "code",
   "execution_count": null,
   "metadata": {
    "collapsed": true
   },
   "outputs": [],
   "source": [
    "# testing of brca data\n",
    "\n",
    "brca2 = (99,99,99,99,99,99,100,100,100,100,100,100)\n",
    "\n",
    "brca3 = (0,0,0,0,0,0,1,1,1,1,1,1)\n",
    "\n",
    "from sklearn import linear_model\n",
    "from sklearn.linear_model import Lasso\n",
    "\n",
    "#lasso code from example on scikit learn directory website\n",
    "#not actual usable code yet, used arbitrary alpha just to test\n",
    "\n",
    "reg = linear_model.Lasso(alpha = 0.1)\n",
    "reg.fit(JEflip, brca2)\n",
    "#print(reg.coef_)\n",
    "output = reg.coef_\n",
    "\n",
    "reg2 = linear_model.Lasso(alpha = 0.1)\n",
    "reg2.fit(JEflip, brca3)\n",
    "#print(reg2.coef_)\n",
    "output2 = reg2.coef_\n",
    "\n",
    "output == output2"
   ]
  },
  {
   "cell_type": "code",
   "execution_count": null,
   "metadata": {
    "collapsed": false
   },
   "outputs": [],
   "source": [
    "# Making test and train data for the Lasso, on our specific dataset\n",
    "# Choosing 5 train data from brca1-, and 5 train data from brca1+\n",
    "# Then left with 1 brca1- cell line and 1 brca1+ cell line for test data\n",
    "\n",
    "train_ind1 = np.random.choice(np.arange(0,6), size=5, replace=False, p=None)\n",
    "train_ind2 = np.random.choice(np.arange(6,12), size=5, replace=False, p=None)\n",
    "print(train_ind1)\n",
    "print(train_ind2)\n",
    "\n",
    "train_ind = np.concatenate((train_ind1, train_ind2), axis =0)\n",
    "test_ind=  np.setdiff1d(np.arange(0,12), train_ind)"
   ]
  },
  {
   "cell_type": "code",
   "execution_count": null,
   "metadata": {
    "collapsed": false
   },
   "outputs": [],
   "source": [
    "expression_train=JEflipar[train_ind,:] #test and train indices used on our data\n",
    "expression_test=JEflipar[test_ind,:]"
   ]
  },
  {
   "cell_type": "code",
   "execution_count": null,
   "metadata": {
    "collapsed": true
   },
   "outputs": [],
   "source": [
    "brca_end = np.array([0,0,0,0,0,0,1,1,1,1,1,1])\n",
    "\n",
    "#brca_end = np.array(['BRCA1-','BRCA1-','BRCA1-','BRCA1-','BRCA1-','BRCA1-',\n",
    "         #'BRCA1+','BRCA1+','BRCA1+','BRCA1+','BRCA1+','BRCA1+'])\n",
    "\n",
    "brcatrain = brca_end[train_ind]\n",
    "brcatest = brca_end[test_ind]\n",
    "\n",
    "#brcatrain will always be array([0, 0, 0, 0, 0, 1, 1, 1, 1, 1])\n",
    "#brcatest will always be array([0, 1])\n"
   ]
  },
  {
   "cell_type": "code",
   "execution_count": null,
   "metadata": {
    "collapsed": true
   },
   "outputs": [],
   "source": [
    "from sklearn.preprocessing import scale\n",
    "from sklearn import cross_validation\n",
    "from sklearn.linear_model import Ridge, RidgeCV, Lasso, LassoCV\n",
    "from sklearn.metrics import mean_squared_error\n",
    "\n",
    "lasso = Lasso(max_iter=10000, normalize=True)\n",
    "\n",
    "#importing all of these according to document by R.J. Crouser"
   ]
  },
  {
   "cell_type": "code",
   "execution_count": null,
   "metadata": {
    "collapsed": false
   },
   "outputs": [],
   "source": [
    "# code from a document created by R. Jordan Crouser at Smith College for SDS293: Machine Learning \n",
    "# found here: http://www.science.smith.edu/~jcrouser/SDS293/labs/lab10/Lab%2010%20-%20Ridge%20Regression%20and%20the%20Lasso%20in%20Python.pdf\n",
    "\n",
    "#looking at random alphas\n",
    "alphas = 10**np.linspace(10,-2,100)*0.5\n",
    "lasso = Lasso(max_iter=10000, normalize=True)\n",
    "coefs = []\n",
    "for a in alphas:\n",
    "    lasso.set_params(alpha=a)\n",
    "    lasso.fit(scale(expression_train), brcatrain)\n",
    "    coefs.append(lasso.coef_)\n",
    "    \n",
    "\n",
    "ax = plt.gca()\n",
    "ax.plot(alphas, coefs)\n",
    "ax.set_xscale('log')\n",
    "plt.axis('tight')\n",
    "plt.xlabel('alpha')\n",
    "plt.ylabel('weights')\n",
    "plt.title ('100 alphas')\n",
    "\n",
    "#np.shape(coefs)\n",
    "#v=coefs\n",
    "#print(v)\n",
    "\n"
   ]
  },
  {
   "cell_type": "code",
   "execution_count": null,
   "metadata": {
    "collapsed": false
   },
   "outputs": [],
   "source": [
    "# lassocv - 10 fold cross validation to find right alpha\n",
    "\n",
    "lassocv = LassoCV(alphas=None, cv=10, max_iter=100000, normalize=True)\n",
    "\n",
    "lassocv.fit(expression_train, brcatrain)\n",
    "lasso.set_params(alpha=lassocv.alpha_)\n",
    "lasso.fit(expression_train, brcatrain)\n",
    "mean_squared_error(brcatest, lasso.predict(expression_test))"
   ]
  },
  {
   "cell_type": "code",
   "execution_count": null,
   "metadata": {
    "collapsed": false
   },
   "outputs": [],
   "source": [
    "lassocv.alpha_"
   ]
  },
  {
   "cell_type": "markdown",
   "metadata": {},
   "source": [
    "# Rest of lasso code\n"
   ]
  },
  {
   "cell_type": "code",
   "execution_count": null,
   "metadata": {
    "collapsed": true
   },
   "outputs": [],
   "source": []
  }
 ],
 "metadata": {
  "anaconda-cloud": {},
  "kernelspec": {
   "display_name": "Python [default]",
   "language": "python",
   "name": "python3"
  },
  "language_info": {
   "codemirror_mode": {
    "name": "ipython",
    "version": 3
   },
   "file_extension": ".py",
   "mimetype": "text/x-python",
   "name": "python",
   "nbconvert_exporter": "python",
   "pygments_lexer": "ipython3",
   "version": "3.5.2"
  }
 },
 "nbformat": 4,
 "nbformat_minor": 1
}
